{
 "cells": [
  {
   "cell_type": "code",
   "execution_count": null,
   "id": "f5b1b001-7fba-44d2-ba6e-48d607299d4a",
   "metadata": {},
   "outputs": [],
   "source": [
    "#Importation de la bibliothèque OpenCV pour la capture vidéo\n",
    "import cv2\n",
    "\n",
    "#importation de matplotlib pour pouvoir vusualiser une image dans jupyter notebook\n",
    "from matplotlib import pyplot as plt\n",
    "\n",
    "#Connexion de la webcam\n",
    "#créer un objet de capture en utilisant l'identifiant de la webcam \n",
    "cap= cv2.VideoCapture(0)"
   ]
  }
 ],
 "metadata": {
  "kernelspec": {
   "display_name": "Python 3 (ipykernel)",
   "language": "python",
   "name": "python3"
  },
  "language_info": {
   "codemirror_mode": {
    "name": "ipython",
    "version": 3
   },
   "file_extension": ".py",
   "mimetype": "text/x-python",
   "name": "python",
   "nbconvert_exporter": "python",
   "pygments_lexer": "ipython3",
   "version": "3.11.7"
  }
 },
 "nbformat": 4,
 "nbformat_minor": 5
}
